{
 "cells": [
  {
   "cell_type": "markdown",
   "id": "9e00ae91",
   "metadata": {},
   "source": [
    "# TITULO"
   ]
  },
  {
   "cell_type": "markdown",
   "id": "4645b74a",
   "metadata": {},
   "source": [
    "# 1) Importando e tratando os dados"
   ]
  },
  {
   "cell_type": "code",
   "execution_count": null,
   "id": "30c998b3",
   "metadata": {},
   "outputs": [],
   "source": [
    "import pandas as pd\n",
    "\n",
    "# importando as bases de dados de seus respctivos caminhos\n",
    "fmi_data = pd.read_csv(r'c:\\Users\\Meus Documentos\\Downloads\\dataset_2025-06-04T01_01_07.768164706Z_DEFAULT_INTEGRATION_IMF.RES_WEO_6.0.0.csv')\n",
    "sipri_data = pd.read_excel(r'c:\\Users\\Meus Documentos\\Downloads\\SIPRI-Milex-data-2014-2024 (1).xlsx', sheet_name=['Constant (2023) US$','Current US$','Share of GDP','Per capita','Share of Govt. spending'])\n",
    "\n",
    "\n",
    "# transformando cada sheet de sipri_data em um dataframe\n",
    "militar_expenses=sipri_data['Constant (2023) US$']\n",
    "\n",
    "militar_expenses_curr=sipri_data['Current US$']\n",
    "\n",
    "expenses_share_of_gdp=sipri_data['Share of GDP']\n",
    "\n",
    "expenses_per_capita=sipri_data['Per capita']\n",
    "\n",
    "expenses_share_of_gov=sipri_data['Share of Govt. spending']\n",
    "\n",
    "\n",
    "# passando os dados para o formato long com .melt(), de modo que um ano esteja associado a mais de uma variável\n",
    "constant_exp_long = militar_expenses.melt(id_vars=['Country'], var_name='Year', value_name='militar_expenses')\n",
    "current_exp_long = militar_expenses_curr.melt(id_vars=['Country'], var_name='Year', value_name='militar_expenses_cur')\n",
    "gdp_share_long = expenses_share_of_gdp.melt(id_vars=['Country'], var_name='Year', value_name='expenses_share_of_gdp')\n",
    "percap_exp_long = expenses_per_capita.melt(id_vars=['Country'], var_name='Year', value_name='expenses_per_capita')\n",
    "govspend_long = expenses_share_of_gov.melt(id_vars=['Country'], var_name='Year', value_name='expenses_share_of_gov')\n",
    "\n",
    "\n",
    "# mergindo cada uma delas sucessivamente até termos um único dataframe\n",
    "military_expenses = constant_exp_long.merge(current_exp_long, on=['Country', 'Year'], how='outer')\n",
    "military_expenses = military_expenses.merge(gdp_share_long, on=['Country', 'Year'], how='outer')\n",
    "military_expenses = military_expenses.merge(percap_exp_long, on=['Country', 'Year'], how='outer')\n",
    "military_expenses = military_expenses.merge(govspend_long, on=['Country', 'Year'], how='outer')\n",
    "\n",
    "# verificando nosso df final\n",
    "print(militar_expenses.info())\n",
    "print(militar_expenses.head())\n",
    "\n",
    "\n"
   ]
  },
  {
   "cell_type": "code",
   "execution_count": 54,
   "id": "a26bdf95",
   "metadata": {},
   "outputs": [
    {
     "name": "stdout",
     "output_type": "stream",
     "text": [
      "              DATASET        SERIES_CODE OBS_MEASURE  \\\n",
      "0  IMF.RES:WEO(6.0.0)  MNE.GGXWDN_NGDP.A   OBS_VALUE   \n",
      "1  IMF.RES:WEO(6.0.0)  MAR.GGXWDG_NGDP.A   OBS_VALUE   \n",
      "2  IMF.RES:WEO(6.0.0)          NRU.LUR.A   OBS_VALUE   \n",
      "3  IMF.RES:WEO(6.0.0)  NRU.GGXWDN_NGDP.A   OBS_VALUE   \n",
      "4  IMF.RES:WEO(6.0.0)  MHL.GGXWDN_NGDP.A   OBS_VALUE   \n",
      "\n",
      "                             COUNTRY  \\\n",
      "0                         Montenegro   \n",
      "1                            Morocco   \n",
      "2                 Nauru, Republic of   \n",
      "3                 Nauru, Republic of   \n",
      "4  Marshall Islands, Republic of the   \n",
      "\n",
      "                                        INDICATOR FREQUENCY  SCALE    2014  \\\n",
      "0    Net debt, General government, Percent of GDP    Annual  Units     NaN   \n",
      "1  Gross debt, General government, Percent of GDP    Annual  Units  58.564   \n",
      "2                               Unemployment rate    Annual  Units     NaN   \n",
      "3    Net debt, General government, Percent of GDP    Annual  Units     NaN   \n",
      "4    Net debt, General government, Percent of GDP    Annual  Units     NaN   \n",
      "\n",
      "     2015    2016    2017    2018   2019    2020    2021    2022    2023  \\\n",
      "0     NaN     NaN     NaN     NaN    NaN     NaN     NaN     NaN     NaN   \n",
      "1  58.394  60.084  60.261  60.458  60.27  72.245  69.351  71.532  69.475   \n",
      "2     NaN     NaN     NaN     NaN    NaN     NaN     NaN     NaN     NaN   \n",
      "3     NaN     NaN     NaN     NaN    NaN     NaN     NaN     NaN     NaN   \n",
      "4     NaN     NaN     NaN     NaN    NaN     NaN     NaN     NaN     NaN   \n",
      "\n",
      "     2024  \n",
      "0     NaN  \n",
      "1  70.028  \n",
      "2     NaN  \n",
      "3     NaN  \n",
      "4     NaN  \n"
     ]
    }
   ],
   "source": [
    "print(fmi_data.head())"
   ]
  }
 ],
 "metadata": {
  "kernelspec": {
   "display_name": "base",
   "language": "python",
   "name": "python3"
  },
  "language_info": {
   "codemirror_mode": {
    "name": "ipython",
    "version": 3
   },
   "file_extension": ".py",
   "mimetype": "text/x-python",
   "name": "python",
   "nbconvert_exporter": "python",
   "pygments_lexer": "ipython3",
   "version": "3.11.4"
  }
 },
 "nbformat": 4,
 "nbformat_minor": 5
}
