{
 "cells": [
  {
   "cell_type": "markdown",
   "id": "9e00ae91",
   "metadata": {},
   "source": [
    "# **Relação entre gastos militares das nações e seu impacto econômico: positivo ou negativo?**\n",
    "\n",
    "---\n"
   ]
  },
  {
   "cell_type": "markdown",
   "id": "4645b74a",
   "metadata": {},
   "source": [
    "# 1) Importando e tratando os dados"
   ]
  },
  {
   "cell_type": "code",
   "execution_count": 68,
   "id": "1e03511f",
   "metadata": {},
   "outputs": [],
   "source": [
    "import pandas as pd\n",
    "\n",
    "# importando as bases de dados de seus respctivos caminhos\n",
    "sipri_data = pd.read_excel(\n",
    "    r'c:\\Users\\Meus Documentos\\Downloads\\SIPRI-Milex-data-2014-2024.xlsx',\n",
    "    sheet_name=[\n",
    "        'Constant (2023) US$', 'Current US$', 'Share of GDP',\n",
    "        'Per capita', 'Share of Govt. spending'\n",
    "    ]\n",
    ")\n",
    "fmi_data = pd.read_csv(r'c:\\Users\\Meus Documentos\\Downloads\\dataset_2025-06-04T01_01_07.768164706Z_DEFAULT_INTEGRATION_IMF.RES_WEO_6.0.0.csv')\n"
   ]
  },
  {
   "cell_type": "markdown",
   "id": "48406e91",
   "metadata": {},
   "source": [
    "# a) Tratando a base sipri_data"
   ]
  },
  {
   "cell_type": "code",
   "execution_count": null,
   "id": "4df69d3b",
   "metadata": {},
   "outputs": [],
   "source": [
    "# passando os dados para o formato long com .melt(), de modo que um ano esteja associado a mais de uma variável\n",
    "constant_exp_long = sipri_data['Constant (2023) US$'].melt(id_vars=['Country'], var_name='Year', value_name='militar_expenses')\n",
    "current_exp_long = sipri_data['Current US$'].melt(id_vars=['Country'], var_name='Year', value_name='militar_expenses_cur')\n",
    "gdp_share_long = sipri_data['Share of GDP'].melt(id_vars=['Country'], var_name='Year', value_name='expenses_share_of_gdp')\n",
    "percap_exp_long = sipri_data['Per capita'].melt(id_vars=['Country'], var_name='Year', value_name='expenses_per_capita')\n",
    "govspend_long = sipri_data['Share of Govt. spending'].melt(id_vars=['Country'], var_name='Year', value_name='expenses_share_of_gov')\n",
    "\n",
    "# definindo e aplicando a função clean para converter valores não numéricos e eliminá-los se nulos\n",
    "def clean(df, value_col):\n",
    "    df[value_col] = pd.to_numeric(df[value_col], errors='coerce')\n",
    "    df['Year'] = df['Year'].astype(int)\n",
    "    return df\n",
    "\n",
    "constant_exp_long = clean(constant_exp_long, 'militar_expenses')\n",
    "current_exp_long = clean(current_exp_long, 'militar_expenses_cur')\n",
    "gdp_share_long = clean(gdp_share_long, 'expenses_share_of_gdp')\n",
    "percap_exp_long = clean(percap_exp_long, 'expenses_per_capita')\n",
    "govspend_long = clean(govspend_long, 'expenses_share_of_gov')\n",
    "\n",
    "# mergindo cada uma delas sucessivamente até termos um único dataframe\n",
    "military_expenses = constant_exp_long.merge(current_exp_long, on=['Country', 'Year'], how='outer')\n",
    "military_expenses = military_expenses.merge(gdp_share_long, on=['Country', 'Year'], how='outer')\n",
    "military_expenses = military_expenses.merge(percap_exp_long, on=['Country', 'Year'], how='outer')\n",
    "military_expenses = military_expenses.merge(govspend_long, on=['Country', 'Year'], how='outer')\n",
    "\n",
    "# remover linhas nulas e verificando se funcionou com .sum()\n",
    "military_expenses = military_expenses.dropna(subset=[\n",
    "    'militar_expenses', 'militar_expenses_cur',\n",
    "    'expenses_share_of_gdp', 'expenses_per_capita',\n",
    "    'expenses_share_of_gov'\n",
    "])\n",
    "\n",
    "print(military_expenses.isna().sum())\n",
    "\n",
    "# verificando nosso df final\n",
    "print(military_expenses.info())\n",
    "print(military_expenses.head())"
   ]
  },
  {
   "cell_type": "markdown",
   "id": "484eca0a",
   "metadata": {},
   "source": [
    "# b) Tratando a base fmi_data"
   ]
  },
  {
   "cell_type": "code",
   "execution_count": null,
   "id": "5ed4694f",
   "metadata": {},
   "outputs": [
    {
     "name": "stdout",
     "output_type": "stream",
     "text": [
      "                             COUNTRY  \\\n",
      "0                         Montenegro   \n",
      "1                            Morocco   \n",
      "2                 Nauru, Republic of   \n",
      "3                 Nauru, Republic of   \n",
      "4  Marshall Islands, Republic of the   \n",
      "\n",
      "                                        INDICATOR     Year           fmi_value  \n",
      "0    Net debt, General government, Percent of GDP  DATASET  IMF.RES:WEO(6.0.0)  \n",
      "1  Gross debt, General government, Percent of GDP  DATASET  IMF.RES:WEO(6.0.0)  \n",
      "2                               Unemployment rate  DATASET  IMF.RES:WEO(6.0.0)  \n",
      "3    Net debt, General government, Percent of GDP  DATASET  IMF.RES:WEO(6.0.0)  \n",
      "4    Net debt, General government, Percent of GDP  DATASET  IMF.RES:WEO(6.0.0)  \n"
     ]
    }
   ],
   "source": [
    "# "
   ]
  }
 ],
 "metadata": {
  "kernelspec": {
   "display_name": "base",
   "language": "python",
   "name": "python3"
  },
  "language_info": {
   "codemirror_mode": {
    "name": "ipython",
    "version": 3
   },
   "file_extension": ".py",
   "mimetype": "text/x-python",
   "name": "python",
   "nbconvert_exporter": "python",
   "pygments_lexer": "ipython3",
   "version": "3.11.4"
  }
 },
 "nbformat": 4,
 "nbformat_minor": 5
}
