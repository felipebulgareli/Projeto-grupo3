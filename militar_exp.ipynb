{
 "cells": [
  {
   "cell_type": "code",
   "execution_count": null,
   "id": "30c998b3",
   "metadata": {},
   "outputs": [
    {
     "name": "stdout",
     "output_type": "stream",
     "text": [
      "    Military expenditure by country, in millions of US$ at current prices and exchange rates, 2014-2024      © SIPRI 2024  \\\n",
      "0    Figures are in US $m., in current prices, conv...                                                                      \n",
      "1    Figures in blue are SIPRI estimates. Figures i...                                                                      \n",
      "2    \". .\" = data unavailable. \"xxx\" = country did ...                                                                      \n",
      "3                                                  NaN                                                                      \n",
      "4                                              Country                                                                      \n",
      "..                                                 ...                                                                      \n",
      "193                                              Syria                                                                      \n",
      "194                                            Türkiye                                                                      \n",
      "195                               United Arab Emirates                                                                      \n",
      "196                                       Yemen, North                                                                      \n",
      "197                                              Yemen                                                                      \n",
      "\n",
      "    Unnamed: 1    Unnamed: 2 Unnamed: 3    Unnamed: 4    Unnamed: 5  \\\n",
      "0          NaN           NaN        NaN           NaN           NaN   \n",
      "1          NaN           NaN        NaN           NaN           NaN   \n",
      "2          NaN           NaN        NaN           NaN           NaN   \n",
      "3          NaN           NaN        NaN           NaN           NaN   \n",
      "4        Notes          2014       2015          2016          2017   \n",
      "..         ...           ...        ...           ...           ...   \n",
      "193          §           ...        ...           ...           ...   \n",
      "194          ‖  17576.538471   15668.75  17827.702151  17822.738263   \n",
      "195        §98  22755.071477        ...           ...           ...   \n",
      "196       §100           xxx        xxx           xxx           xxx   \n",
      "197        §99   1714.830844        ...           ...           ...   \n",
      "\n",
      "       Unnamed: 6    Unnamed: 7    Unnamed: 8    Unnamed: 9   Unnamed: 10  \\\n",
      "0             NaN           NaN           NaN           NaN           NaN   \n",
      "1             NaN           NaN           NaN           NaN           NaN   \n",
      "2             NaN           NaN           NaN           NaN           NaN   \n",
      "3             NaN           NaN           NaN           NaN           NaN   \n",
      "4            2018          2019          2020          2021          2022   \n",
      "..            ...           ...           ...           ...           ...   \n",
      "193           ...           ...           ...           ...           ...   \n",
      "194  19648.693824  20436.917121  15782.990906  15254.829835  15036.835694   \n",
      "195           ...           ...           ...           ...           ...   \n",
      "196           xxx           xxx           xxx           xxx           xxx   \n",
      "197           ...           ...           ...           ...           ...   \n",
      "\n",
      "      Unnamed: 11   Unnamed: 12  \n",
      "0             NaN           NaN  \n",
      "1             NaN           NaN  \n",
      "2             NaN           NaN  \n",
      "3             NaN           NaN  \n",
      "4            2023          2024  \n",
      "..            ...           ...  \n",
      "193           ...           ...  \n",
      "194  19577.831924  24978.735535  \n",
      "195           ...           ...  \n",
      "196           xxx           xxx  \n",
      "197           ...           ...  \n",
      "\n",
      "[198 rows x 13 columns]\n"
     ]
    },
    {
     "name": "stderr",
     "output_type": "stream",
     "text": [
      "c:\\ProgramData\\anaconda3\\Lib\\site-packages\\openpyxl\\styles\\stylesheet.py:226: UserWarning: Workbook contains no default style, apply openpyxl's default\n",
      "  warn(\"Workbook contains no default style, apply openpyxl's default\")\n"
     ]
    }
   ],
   "source": [
    "import pandas as pd\n",
    "\n",
    "# importando as bases de dados de seus respctivos caminhos\n",
    "\n",
    "fmi_data = pd.read_csv(r'C:\\Users\\Meus Documentos\\Downloads\\dataset_2025-06-04T01_01_07.768164706Z_DEFAULT_INTEGRATION_IMF.RES_WEO_6.0.0.csv')\n",
    "sipri_data = pd.read_excel(r'C:\\Users\\Meus Documentos\\Downloads\\SIPRI-Milex-data-2014-2024.xlsx', sheet_name=['Current US$','Share of GDP','Per capita','Share of Govt. spending'])\n",
    "\n",
    "# vendo as informaçoes dos dataframes\n",
    "\n",
    "# do FMI\n",
    "print(fmi_data.info())\n",
    "print(fmi_data.head())\n",
    "\n",
    "# do SIPRI\n",
    "print(sipri_data.info())\n",
    "print(sipri_data.head())\n"
   ]
  }
 ],
 "metadata": {
  "kernelspec": {
   "display_name": "base",
   "language": "python",
   "name": "python3"
  },
  "language_info": {
   "codemirror_mode": {
    "name": "ipython",
    "version": 3
   },
   "file_extension": ".py",
   "mimetype": "text/x-python",
   "name": "python",
   "nbconvert_exporter": "python",
   "pygments_lexer": "ipython3",
   "version": "3.11.4"
  }
 },
 "nbformat": 4,
 "nbformat_minor": 5
}
