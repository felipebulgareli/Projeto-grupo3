{
 "cells": [
  {
   "cell_type": "code",
   "execution_count": null,
   "id": "30c998b3",
   "metadata": {},
   "outputs": [],
   "source": [
    "import pandas as pd\n",
    "\n",
    "path = r\"C:\\Users\\Meus Documentos\\Downloads\\SIPRI-Milex-data-1949-2024_2.xlsx\"\n",
    "\n",
    "current = pd.read_excel(path, sheet_name='Current US$')\n",
    "gdp_share = pd.read_excel(path, sheet_name='Share of GDP')\n",
    "gov_share = pd.read_excel(path, sheet_name='Share of Govt. spending')\n",
    "per_capita = pd.read_excel(path, sheet_name='Per capita')\n",
    "\n",
    "print(current.head())\n",
    "\n",
    "\n"
   ]
  }
 ],
 "metadata": {
  "language_info": {
   "name": "python"
  }
 },
 "nbformat": 4,
 "nbformat_minor": 5
}
