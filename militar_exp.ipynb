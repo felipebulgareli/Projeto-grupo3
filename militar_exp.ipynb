{
  "cells": [
    {
      "cell_type": "markdown",
      "id": "9e00ae91",
      "metadata": {
        "id": "9e00ae91"
      },
      "source": [
        "# **Relação entre gastos militares das nações e seu impacto econômico: positivo ou negativo?**\n",
        "\n",
        "---\n"
      ]
    },
    {
      "cell_type": "markdown",
      "id": "4645b74a",
      "metadata": {
        "id": "4645b74a"
      },
      "source": [
        "# 1) Importando e tratando os dados"
      ]
    },
    {
      "cell_type": "code",
      "source": [
        "from google.colab import files\n",
        "\n",
        "uploaded = files.upload()"
      ],
      "metadata": {
        "id": "N4-iA-GjHfHy",
        "outputId": "8133481c-153e-4bc5-d744-a364bdceb52d",
        "colab": {
          "base_uri": "https://localhost:8080/",
          "height": 142
        }
      },
      "id": "N4-iA-GjHfHy",
      "execution_count": 14,
      "outputs": [
        {
          "output_type": "display_data",
          "data": {
            "text/plain": [
              "<IPython.core.display.HTML object>"
            ],
            "text/html": [
              "\n",
              "     <input type=\"file\" id=\"files-072018fa-7ba4-4c3b-ae3f-b066ce3cb854\" name=\"files[]\" multiple disabled\n",
              "        style=\"border:none\" />\n",
              "     <output id=\"result-072018fa-7ba4-4c3b-ae3f-b066ce3cb854\">\n",
              "      Upload widget is only available when the cell has been executed in the\n",
              "      current browser session. Please rerun this cell to enable.\n",
              "      </output>\n",
              "      <script>// Copyright 2017 Google LLC\n",
              "//\n",
              "// Licensed under the Apache License, Version 2.0 (the \"License\");\n",
              "// you may not use this file except in compliance with the License.\n",
              "// You may obtain a copy of the License at\n",
              "//\n",
              "//      http://www.apache.org/licenses/LICENSE-2.0\n",
              "//\n",
              "// Unless required by applicable law or agreed to in writing, software\n",
              "// distributed under the License is distributed on an \"AS IS\" BASIS,\n",
              "// WITHOUT WARRANTIES OR CONDITIONS OF ANY KIND, either express or implied.\n",
              "// See the License for the specific language governing permissions and\n",
              "// limitations under the License.\n",
              "\n",
              "/**\n",
              " * @fileoverview Helpers for google.colab Python module.\n",
              " */\n",
              "(function(scope) {\n",
              "function span(text, styleAttributes = {}) {\n",
              "  const element = document.createElement('span');\n",
              "  element.textContent = text;\n",
              "  for (const key of Object.keys(styleAttributes)) {\n",
              "    element.style[key] = styleAttributes[key];\n",
              "  }\n",
              "  return element;\n",
              "}\n",
              "\n",
              "// Max number of bytes which will be uploaded at a time.\n",
              "const MAX_PAYLOAD_SIZE = 100 * 1024;\n",
              "\n",
              "function _uploadFiles(inputId, outputId) {\n",
              "  const steps = uploadFilesStep(inputId, outputId);\n",
              "  const outputElement = document.getElementById(outputId);\n",
              "  // Cache steps on the outputElement to make it available for the next call\n",
              "  // to uploadFilesContinue from Python.\n",
              "  outputElement.steps = steps;\n",
              "\n",
              "  return _uploadFilesContinue(outputId);\n",
              "}\n",
              "\n",
              "// This is roughly an async generator (not supported in the browser yet),\n",
              "// where there are multiple asynchronous steps and the Python side is going\n",
              "// to poll for completion of each step.\n",
              "// This uses a Promise to block the python side on completion of each step,\n",
              "// then passes the result of the previous step as the input to the next step.\n",
              "function _uploadFilesContinue(outputId) {\n",
              "  const outputElement = document.getElementById(outputId);\n",
              "  const steps = outputElement.steps;\n",
              "\n",
              "  const next = steps.next(outputElement.lastPromiseValue);\n",
              "  return Promise.resolve(next.value.promise).then((value) => {\n",
              "    // Cache the last promise value to make it available to the next\n",
              "    // step of the generator.\n",
              "    outputElement.lastPromiseValue = value;\n",
              "    return next.value.response;\n",
              "  });\n",
              "}\n",
              "\n",
              "/**\n",
              " * Generator function which is called between each async step of the upload\n",
              " * process.\n",
              " * @param {string} inputId Element ID of the input file picker element.\n",
              " * @param {string} outputId Element ID of the output display.\n",
              " * @return {!Iterable<!Object>} Iterable of next steps.\n",
              " */\n",
              "function* uploadFilesStep(inputId, outputId) {\n",
              "  const inputElement = document.getElementById(inputId);\n",
              "  inputElement.disabled = false;\n",
              "\n",
              "  const outputElement = document.getElementById(outputId);\n",
              "  outputElement.innerHTML = '';\n",
              "\n",
              "  const pickedPromise = new Promise((resolve) => {\n",
              "    inputElement.addEventListener('change', (e) => {\n",
              "      resolve(e.target.files);\n",
              "    });\n",
              "  });\n",
              "\n",
              "  const cancel = document.createElement('button');\n",
              "  inputElement.parentElement.appendChild(cancel);\n",
              "  cancel.textContent = 'Cancel upload';\n",
              "  const cancelPromise = new Promise((resolve) => {\n",
              "    cancel.onclick = () => {\n",
              "      resolve(null);\n",
              "    };\n",
              "  });\n",
              "\n",
              "  // Wait for the user to pick the files.\n",
              "  const files = yield {\n",
              "    promise: Promise.race([pickedPromise, cancelPromise]),\n",
              "    response: {\n",
              "      action: 'starting',\n",
              "    }\n",
              "  };\n",
              "\n",
              "  cancel.remove();\n",
              "\n",
              "  // Disable the input element since further picks are not allowed.\n",
              "  inputElement.disabled = true;\n",
              "\n",
              "  if (!files) {\n",
              "    return {\n",
              "      response: {\n",
              "        action: 'complete',\n",
              "      }\n",
              "    };\n",
              "  }\n",
              "\n",
              "  for (const file of files) {\n",
              "    const li = document.createElement('li');\n",
              "    li.append(span(file.name, {fontWeight: 'bold'}));\n",
              "    li.append(span(\n",
              "        `(${file.type || 'n/a'}) - ${file.size} bytes, ` +\n",
              "        `last modified: ${\n",
              "            file.lastModifiedDate ? file.lastModifiedDate.toLocaleDateString() :\n",
              "                                    'n/a'} - `));\n",
              "    const percent = span('0% done');\n",
              "    li.appendChild(percent);\n",
              "\n",
              "    outputElement.appendChild(li);\n",
              "\n",
              "    const fileDataPromise = new Promise((resolve) => {\n",
              "      const reader = new FileReader();\n",
              "      reader.onload = (e) => {\n",
              "        resolve(e.target.result);\n",
              "      };\n",
              "      reader.readAsArrayBuffer(file);\n",
              "    });\n",
              "    // Wait for the data to be ready.\n",
              "    let fileData = yield {\n",
              "      promise: fileDataPromise,\n",
              "      response: {\n",
              "        action: 'continue',\n",
              "      }\n",
              "    };\n",
              "\n",
              "    // Use a chunked sending to avoid message size limits. See b/62115660.\n",
              "    let position = 0;\n",
              "    do {\n",
              "      const length = Math.min(fileData.byteLength - position, MAX_PAYLOAD_SIZE);\n",
              "      const chunk = new Uint8Array(fileData, position, length);\n",
              "      position += length;\n",
              "\n",
              "      const base64 = btoa(String.fromCharCode.apply(null, chunk));\n",
              "      yield {\n",
              "        response: {\n",
              "          action: 'append',\n",
              "          file: file.name,\n",
              "          data: base64,\n",
              "        },\n",
              "      };\n",
              "\n",
              "      let percentDone = fileData.byteLength === 0 ?\n",
              "          100 :\n",
              "          Math.round((position / fileData.byteLength) * 100);\n",
              "      percent.textContent = `${percentDone}% done`;\n",
              "\n",
              "    } while (position < fileData.byteLength);\n",
              "  }\n",
              "\n",
              "  // All done.\n",
              "  yield {\n",
              "    response: {\n",
              "      action: 'complete',\n",
              "    }\n",
              "  };\n",
              "}\n",
              "\n",
              "scope.google = scope.google || {};\n",
              "scope.google.colab = scope.google.colab || {};\n",
              "scope.google.colab._files = {\n",
              "  _uploadFiles,\n",
              "  _uploadFilesContinue,\n",
              "};\n",
              "})(self);\n",
              "</script> "
            ]
          },
          "metadata": {}
        },
        {
          "output_type": "stream",
          "name": "stdout",
          "text": [
            "Saving dataset_2025-06-04T01_01_07.768164706Z_DEFAULT_INTEGRATION_IMF.RES_WEO_6.0.0.csv to dataset_2025-06-04T01_01_07.768164706Z_DEFAULT_INTEGRATION_IMF.RES_WEO_6.0.0 (4).csv\n",
            "Saving SIPRI-Milex-data-2014-2024 v2.xlsx to SIPRI-Milex-data-2014-2024 v2 (4).xlsx\n",
            "Saving SIPRI-Milex-data-2014-2024.xlsx to SIPRI-Milex-data-2014-2024 (4).xlsx\n"
          ]
        }
      ]
    },
    {
      "cell_type": "code",
      "execution_count": 17,
      "id": "1e03511f",
      "metadata": {
        "id": "1e03511f"
      },
      "outputs": [],
      "source": [
        "import pandas as pd\n",
        "\n",
        "# importando as bases de dados de seus respctivos caminhos\n",
        "sipri_data = pd.read_excel(\n",
        "    'SIPRI-Milex-data-2014-2024.xlsx',\n",
        "    sheet_name=[\n",
        "        'Constant (2023) US$', 'Current US$', 'Share of GDP',\n",
        "        'Per capita', 'Share of Govt. spending'\n",
        "    ]\n",
        ")\n",
        "fmi_data = pd.read_csv('dataset_2025-06-04T01_01_07.768164706Z_DEFAULT_INTEGRATION_IMF.RES_WEO_6.0.0.csv')\n"
      ]
    },
    {
      "cell_type": "markdown",
      "id": "48406e91",
      "metadata": {
        "id": "48406e91"
      },
      "source": [
        "# a) Tratando a base sipri_data"
      ]
    },
    {
      "cell_type": "code",
      "execution_count": 18,
      "id": "4df69d3b",
      "metadata": {
        "id": "4df69d3b",
        "outputId": "8c713a33-270c-4403-9bdc-34bef1dd3d6d",
        "colab": {
          "base_uri": "https://localhost:8080/"
        }
      },
      "outputs": [
        {
          "output_type": "stream",
          "name": "stdout",
          "text": [
            "Country                  0\n",
            "Year                     0\n",
            "militar_expenses         0\n",
            "militar_expenses_cur     0\n",
            "expenses_share_of_gdp    0\n",
            "expenses_per_capita      0\n",
            "expenses_share_of_gov    0\n",
            "dtype: int64\n",
            "<class 'pandas.core.frame.DataFrame'>\n",
            "Index: 1640 entries, 0 to 2100\n",
            "Data columns (total 7 columns):\n",
            " #   Column                 Non-Null Count  Dtype  \n",
            "---  ------                 --------------  -----  \n",
            " 0   Country                1640 non-null   object \n",
            " 1   Year                   1640 non-null   int64  \n",
            " 2   militar_expenses       1640 non-null   float64\n",
            " 3   militar_expenses_cur   1640 non-null   float64\n",
            " 4   expenses_share_of_gdp  1640 non-null   float64\n",
            " 5   expenses_per_capita    1640 non-null   float64\n",
            " 6   expenses_share_of_gov  1640 non-null   float64\n",
            "dtypes: float64(5), int64(1), object(1)\n",
            "memory usage: 102.5+ KB\n",
            "None\n",
            "       Country  Year  militar_expenses  militar_expenses_cur  \\\n",
            "0  Afghanistan  2014        245.148024            268.238788   \n",
            "1  Afghanistan  2015        196.048613            199.517109   \n",
            "2  Afghanistan  2016        194.214496            185.878310   \n",
            "3  Afghanistan  2017        190.962936            191.407113   \n",
            "4  Afghanistan  2018        208.563898            198.074729   \n",
            "\n",
            "   expenses_share_of_gdp  expenses_per_capita  expenses_share_of_gov  \n",
            "0               0.012980             8.343612               0.051098  \n",
            "1               0.009946             5.967134               0.038331  \n",
            "2               0.009568             5.430751               0.036803  \n",
            "3               0.009452             5.441722               0.036526  \n",
            "4               0.010067             5.471073               0.037249  \n"
          ]
        }
      ],
      "source": [
        "# passando os dados para o formato long com .melt(), de modo que um ano esteja associado a mais de uma variável\n",
        "constant_exp_long = sipri_data['Constant (2023) US$'].melt(id_vars=['Country'], var_name='Year', value_name='militar_expenses')\n",
        "current_exp_long = sipri_data['Current US$'].melt(id_vars=['Country'], var_name='Year', value_name='militar_expenses_cur')\n",
        "gdp_share_long = sipri_data['Share of GDP'].melt(id_vars=['Country'], var_name='Year', value_name='expenses_share_of_gdp')\n",
        "percap_exp_long = sipri_data['Per capita'].melt(id_vars=['Country'], var_name='Year', value_name='expenses_per_capita')\n",
        "govspend_long = sipri_data['Share of Govt. spending'].melt(id_vars=['Country'], var_name='Year', value_name='expenses_share_of_gov')\n",
        "\n",
        "# definindo e aplicando a função clean para converter valores não numéricos e eliminá-los se nulos\n",
        "def clean(df, value_col):\n",
        "    df[value_col] = pd.to_numeric(df[value_col], errors='coerce')\n",
        "    df['Year'] = df['Year'].astype(int)\n",
        "    return df\n",
        "\n",
        "constant_exp_long = clean(constant_exp_long, 'militar_expenses')\n",
        "current_exp_long = clean(current_exp_long, 'militar_expenses_cur')\n",
        "gdp_share_long = clean(gdp_share_long, 'expenses_share_of_gdp')\n",
        "percap_exp_long = clean(percap_exp_long, 'expenses_per_capita')\n",
        "govspend_long = clean(govspend_long, 'expenses_share_of_gov')\n",
        "\n",
        "# mergindo cada uma delas sucessivamente até termos um único dataframe\n",
        "military_expenses = constant_exp_long.merge(current_exp_long, on=['Country', 'Year'], how='outer')\n",
        "military_expenses = military_expenses.merge(gdp_share_long, on=['Country', 'Year'], how='outer')\n",
        "military_expenses = military_expenses.merge(percap_exp_long, on=['Country', 'Year'], how='outer')\n",
        "military_expenses = military_expenses.merge(govspend_long, on=['Country', 'Year'], how='outer')\n",
        "\n",
        "# remover linhas nulas e verificando se funcionou com .sum()\n",
        "military_expenses = military_expenses.dropna(subset=[\n",
        "    'militar_expenses', 'militar_expenses_cur',\n",
        "    'expenses_share_of_gdp', 'expenses_per_capita',\n",
        "    'expenses_share_of_gov'\n",
        "])\n",
        "\n",
        "print(military_expenses.isna().sum())\n",
        "\n",
        "# verificando nosso df final\n",
        "print(military_expenses.info())\n",
        "print(military_expenses.head())"
      ]
    },
    {
      "cell_type": "markdown",
      "id": "484eca0a",
      "metadata": {
        "id": "484eca0a"
      },
      "source": [
        "# b) Tratando a base fmi_data"
      ]
    },
    {
      "cell_type": "code",
      "execution_count": 21,
      "id": "5ed4694f",
      "metadata": {
        "colab": {
          "base_uri": "https://localhost:8080/"
        },
        "id": "5ed4694f",
        "outputId": "a001d266-a677-4cff-e617-78980ae933d9"
      },
      "outputs": [
        {
          "output_type": "stream",
          "name": "stdout",
          "text": [
            "INDICATOR     External debt, Percent of GDP  External debt, US dollar  \\\n",
            "Country Year                                                            \n",
            "ASEAN-5 2014                            NaN                       NaN   \n",
            "        2015                            NaN                       NaN   \n",
            "        2016                            NaN                       NaN   \n",
            "        2017                            NaN                       NaN   \n",
            "        2018                            NaN                       NaN   \n",
            "\n",
            "INDICATOR     Gross debt, General government, Percent of GDP  \\\n",
            "Country Year                                                   \n",
            "ASEAN-5 2014                                          45.097   \n",
            "        2015                                          46.503   \n",
            "        2016                                          46.584   \n",
            "        2017                                          47.129   \n",
            "        2018                                          48.377   \n",
            "\n",
            "INDICATOR     Gross domestic product (GDP), Constant prices, Percent change  \\\n",
            "Country Year                                                                  \n",
            "ASEAN-5 2014                                              4.392               \n",
            "        2015                                              4.566               \n",
            "        2016                                              4.803               \n",
            "        2017                                              5.190               \n",
            "        2018                                              4.951               \n",
            "\n",
            "INDICATOR     Gross domestic product (GDP), Current prices, Per capita, US dollar  \\\n",
            "Country Year                                                                        \n",
            "ASEAN-5 2014                                                NaN                     \n",
            "        2015                                                NaN                     \n",
            "        2016                                                NaN                     \n",
            "        2017                                                NaN                     \n",
            "        2018                                                NaN                     \n",
            "\n",
            "INDICATOR     Net debt, General government, Percent of GDP  \\\n",
            "Country Year                                                 \n",
            "ASEAN-5 2014                                           NaN   \n",
            "        2015                                           NaN   \n",
            "        2016                                           NaN   \n",
            "        2017                                           NaN   \n",
            "        2018                                           NaN   \n",
            "\n",
            "INDICATOR     Population, Persons for countries / Index for country groups  \\\n",
            "Country Year                                                                 \n",
            "ASEAN-5 2014                                                NaN              \n",
            "        2015                                                NaN              \n",
            "        2016                                                NaN              \n",
            "        2017                                                NaN              \n",
            "        2018                                                NaN              \n",
            "\n",
            "INDICATOR     Unemployment rate  \n",
            "Country Year                     \n",
            "ASEAN-5 2014                NaN  \n",
            "        2015                NaN  \n",
            "        2016                NaN  \n",
            "        2017                NaN  \n",
            "        2018                NaN  \n"
          ]
        }
      ],
      "source": [
        "import pandas as pd\n",
        "# removendo colunas desnecessárias do df e renomeando a coluna 'COUNTRY' para o merge\n",
        "fmi_data = fmi_data.drop(columns=['DATASET','SERIES_CODE', 'OBS_MEASURE', 'FREQUENCY', 'SCALE'])\n",
        "fmi_data = fmi_data.rename(columns={'COUNTRY':'Country'})\n",
        "\n",
        "# passando os dados para o formato long com .melt(), de modo que um ano esteja associado a mais de uma variável\n",
        "col_years = ['2014', '2015', '2016', '2017', '2018', '2019','2020','2021','2022','2023','2024']\n",
        "fmi_data_melt = fmi_data.melt(\n",
        "    id_vars=['Country', 'INDICATOR'],\n",
        "    value_vars=col_years,\n",
        "    var_name='Year',\n",
        "    value_name='Value'\n",
        ")\n",
        "# criando uma coluna para cada indicador com a função .pivot()\n",
        "fmi_data_pivot_melt = fmi_data_melt.pivot(\n",
        "    index=['Country', 'Year'],\n",
        "    columns='INDICATOR',\n",
        "    values= 'Value'\n",
        ")\n",
        "\n",
        "\n",
        "\n",
        "\n",
        "print(fmi_data_pivot_melt.head())"
      ]
    },
    {
      "cell_type": "code",
      "source": [
        "# mergindo os dois dfs\n",
        "\n",
        "tabelona = pd.merge(military_expenses, fmi_data_pivot_melt, on='Country', how='outer')\n",
        "\n",
        "print(tabelona.head())"
      ],
      "metadata": {
        "id": "XsRXqo4zV-fY",
        "outputId": "48fb5721-bdab-440b-f654-1a0d7e4162d0",
        "colab": {
          "base_uri": "https://localhost:8080/"
        }
      },
      "id": "XsRXqo4zV-fY",
      "execution_count": 24,
      "outputs": [
        {
          "output_type": "stream",
          "name": "stdout",
          "text": [
            "   Country  Year  militar_expenses  militar_expenses_cur  \\\n",
            "0  ASEAN-5   NaN               NaN                   NaN   \n",
            "1  ASEAN-5   NaN               NaN                   NaN   \n",
            "2  ASEAN-5   NaN               NaN                   NaN   \n",
            "3  ASEAN-5   NaN               NaN                   NaN   \n",
            "4  ASEAN-5   NaN               NaN                   NaN   \n",
            "\n",
            "   expenses_share_of_gdp  expenses_per_capita  expenses_share_of_gov  \\\n",
            "0                    NaN                  NaN                    NaN   \n",
            "1                    NaN                  NaN                    NaN   \n",
            "2                    NaN                  NaN                    NaN   \n",
            "3                    NaN                  NaN                    NaN   \n",
            "4                    NaN                  NaN                    NaN   \n",
            "\n",
            "   External debt, Percent of GDP  External debt, US dollar  \\\n",
            "0                            NaN                       NaN   \n",
            "1                            NaN                       NaN   \n",
            "2                            NaN                       NaN   \n",
            "3                            NaN                       NaN   \n",
            "4                            NaN                       NaN   \n",
            "\n",
            "   Gross debt, General government, Percent of GDP  \\\n",
            "0                                          45.097   \n",
            "1                                          46.503   \n",
            "2                                          46.584   \n",
            "3                                          47.129   \n",
            "4                                          48.377   \n",
            "\n",
            "   Gross domestic product (GDP), Constant prices, Percent change  \\\n",
            "0                                              4.392               \n",
            "1                                              4.566               \n",
            "2                                              4.803               \n",
            "3                                              5.190               \n",
            "4                                              4.951               \n",
            "\n",
            "   Gross domestic product (GDP), Current prices, Per capita, US dollar  \\\n",
            "0                                                NaN                     \n",
            "1                                                NaN                     \n",
            "2                                                NaN                     \n",
            "3                                                NaN                     \n",
            "4                                                NaN                     \n",
            "\n",
            "   Net debt, General government, Percent of GDP  \\\n",
            "0                                           NaN   \n",
            "1                                           NaN   \n",
            "2                                           NaN   \n",
            "3                                           NaN   \n",
            "4                                           NaN   \n",
            "\n",
            "   Population, Persons for countries / Index for country groups  \\\n",
            "0                                                NaN              \n",
            "1                                                NaN              \n",
            "2                                                NaN              \n",
            "3                                                NaN              \n",
            "4                                                NaN              \n",
            "\n",
            "   Unemployment rate  \n",
            "0                NaN  \n",
            "1                NaN  \n",
            "2                NaN  \n",
            "3                NaN  \n",
            "4                NaN  \n"
          ]
        }
      ]
    },
    {
      "cell_type": "markdown",
      "source": [],
      "metadata": {
        "id": "VIC1fmHVV-PB"
      },
      "id": "VIC1fmHVV-PB"
    },
    {
      "cell_type": "code",
      "source": [
        "import matplotlib.pyplot as plt\n",
        "import pandas as pd\n",
        "\n",
        "plt.scatter(tabelona['militar_expenses'], tabelona['Gross debt, General government, Percent of GDP'], color='blue', alpha=0.5)\n",
        "plt.xlabel('Gastos Militares Constantes (US$)')\n",
        "plt.ylabel('Dívida Bruta do Governo (% do PIB)')\n",
        "plt.title('Correlação entre Gastos Militares e Dívida Bruta do Governo')\n",
        "plt.show()\n"
      ],
      "metadata": {
        "id": "Zqy_CAaslhH-",
        "outputId": "8da52fb7-cc24-4dcb-a708-87e2eb4e9dc4",
        "colab": {
          "base_uri": "https://localhost:8080/",
          "height": 472
        }
      },
      "id": "Zqy_CAaslhH-",
      "execution_count": 34,
      "outputs": [
        {
          "output_type": "display_data",
          "data": {
            "text/plain": [
              "<Figure size 640x480 with 1 Axes>"
            ],
            "image/png": "[encoded data removed]"
          },
          "metadata": {}
        }
      ]
    }
  ],
  "metadata": {
    "kernelspec": {
      "display_name": "base",
      "language": "python",
      "name": "python3"
    },
    "language_info": {
      "codemirror_mode": {
        "name": "ipython",
        "version": 3
      },
      "file_extension": ".py",
      "mimetype": "text/x-python",
      "name": "python",
      "nbconvert_exporter": "python",
      "pygments_lexer": "ipython3",
      "version": "3.11.4"
    },
    "colab": {
      "provenance": []
    }
  },
  "nbformat": 4,
  "nbformat_minor": 5
}