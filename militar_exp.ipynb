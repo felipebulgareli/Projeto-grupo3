{
 "cells": [
  {
   "cell_type": "code",
   "execution_count": 11,
   "id": "30c998b3",
   "metadata": {},
   "outputs": [
    {
     "name": "stderr",
     "output_type": "stream",
     "text": [
      "c:\\ProgramData\\anaconda3\\Lib\\site-packages\\openpyxl\\styles\\stylesheet.py:226: UserWarning: Workbook contains no default style, apply openpyxl's default\n",
      "  warn(\"Workbook contains no default style, apply openpyxl's default\")\n"
     ]
    },
    {
     "name": "stdout",
     "output_type": "stream",
     "text": [
      "<class 'pandas.core.frame.DataFrame'>\n",
      "RangeIndex: 1254 entries, 0 to 1253\n",
      "Data columns (total 18 columns):\n",
      " #   Column       Non-Null Count  Dtype  \n",
      "---  ------       --------------  -----  \n",
      " 0   DATASET      1254 non-null   object \n",
      " 1   SERIES_CODE  1254 non-null   object \n",
      " 2   OBS_MEASURE  1254 non-null   object \n",
      " 3   COUNTRY      1254 non-null   object \n",
      " 4   INDICATOR    1254 non-null   object \n",
      " 5   FREQUENCY    1254 non-null   object \n",
      " 6   SCALE        1254 non-null   object \n",
      " 7   2014         1024 non-null   float64\n",
      " 8   2015         1024 non-null   float64\n",
      " 9   2016         1024 non-null   float64\n",
      " 10  2017         1025 non-null   float64\n",
      " 11  2018         1025 non-null   float64\n",
      " 12  2019         1023 non-null   float64\n",
      " 13  2020         1018 non-null   float64\n",
      " 14  2021         1018 non-null   float64\n",
      " 15  2022         1018 non-null   float64\n",
      " 16  2023         1019 non-null   float64\n",
      " 17  2024         1006 non-null   float64\n",
      "dtypes: float64(11), object(7)\n",
      "memory usage: 176.5+ KB\n",
      "None\n",
      "              DATASET        SERIES_CODE OBS_MEASURE  \\\n",
      "0  IMF.RES:WEO(6.0.0)  MNE.GGXWDN_NGDP.A   OBS_VALUE   \n",
      "1  IMF.RES:WEO(6.0.0)  MAR.GGXWDG_NGDP.A   OBS_VALUE   \n",
      "2  IMF.RES:WEO(6.0.0)          NRU.LUR.A   OBS_VALUE   \n",
      "3  IMF.RES:WEO(6.0.0)  NRU.GGXWDN_NGDP.A   OBS_VALUE   \n",
      "4  IMF.RES:WEO(6.0.0)  MHL.GGXWDN_NGDP.A   OBS_VALUE   \n",
      "\n",
      "                             COUNTRY  \\\n",
      "0                         Montenegro   \n",
      "1                            Morocco   \n",
      "2                 Nauru, Republic of   \n",
      "3                 Nauru, Republic of   \n",
      "4  Marshall Islands, Republic of the   \n",
      "\n",
      "                                        INDICATOR FREQUENCY  SCALE    2014  \\\n",
      "0    Net debt, General government, Percent of GDP    Annual  Units     NaN   \n",
      "1  Gross debt, General government, Percent of GDP    Annual  Units  58.564   \n",
      "2                               Unemployment rate    Annual  Units     NaN   \n",
      "3    Net debt, General government, Percent of GDP    Annual  Units     NaN   \n",
      "4    Net debt, General government, Percent of GDP    Annual  Units     NaN   \n",
      "\n",
      "     2015    2016    2017    2018   2019    2020    2021    2022    2023  \\\n",
      "0     NaN     NaN     NaN     NaN    NaN     NaN     NaN     NaN     NaN   \n",
      "1  58.394  60.084  60.261  60.458  60.27  72.245  69.351  71.532  69.475   \n",
      "2     NaN     NaN     NaN     NaN    NaN     NaN     NaN     NaN     NaN   \n",
      "3     NaN     NaN     NaN     NaN    NaN     NaN     NaN     NaN     NaN   \n",
      "4     NaN     NaN     NaN     NaN    NaN     NaN     NaN     NaN     NaN   \n",
      "\n",
      "     2024  \n",
      "0     NaN  \n",
      "1  70.028  \n",
      "2     NaN  \n",
      "3     NaN  \n",
      "4     NaN  \n"
     ]
    },
    {
     "ename": "AttributeError",
     "evalue": "'dict' object has no attribute 'info'",
     "output_type": "error",
     "traceback": [
      "\u001b[1;31m---------------------------------------------------------------------------\u001b[0m",
      "\u001b[1;31mAttributeError\u001b[0m                            Traceback (most recent call last)",
      "Cell \u001b[1;32mIn[11], line 15\u001b[0m\n\u001b[0;32m     12\u001b[0m \u001b[38;5;28mprint\u001b[39m(fmi_data\u001b[38;5;241m.\u001b[39mhead())\n\u001b[0;32m     14\u001b[0m \u001b[38;5;66;03m# do SIPRI\u001b[39;00m\n\u001b[1;32m---> 15\u001b[0m \u001b[38;5;28mprint\u001b[39m(sipri_data\u001b[38;5;241m.\u001b[39minfo())\n\u001b[0;32m     16\u001b[0m \u001b[38;5;28mprint\u001b[39m(sipri_data\u001b[38;5;241m.\u001b[39mhead())\n",
      "\u001b[1;31mAttributeError\u001b[0m: 'dict' object has no attribute 'info'"
     ]
    }
   ],
   "source": [
    "import pandas as pd\n",
    "\n",
    "# importando as bases de dados de seus respctivos caminhos\n",
    "\n",
    "fmi_data = pd.read_csv(r'C:\\Users\\Meus Documentos\\Downloads\\dataset_2025-06-04T01_01_07.768164706Z_DEFAULT_INTEGRATION_IMF.RES_WEO_6.0.0.csv')\n",
    "sipri_data = pd.read_excel(r'C:\\Users\\Meus Documentos\\Downloads\\SIPRI-Milex-data-2014-2024.xlsx', sheet_name=['Current US$','Share of GDP','Per capita','Share of Govt. spending'])\n",
    "\n",
    "# vendo as informaçoes dos dataframes\n",
    "\n",
    "# do FMI\n",
    "print(fmi_data.info())\n",
    "print(fmi_data.head())\n",
    "\n",
    "# do SIPRI\n",
    "print(sipri_data.info())\n",
    "print(sipri_data.head())\n"
   ]
  }
 ],
 "metadata": {
  "kernelspec": {
   "display_name": "base",
   "language": "python",
   "name": "python3"
  },
  "language_info": {
   "codemirror_mode": {
    "name": "ipython",
    "version": 3
   },
   "file_extension": ".py",
   "mimetype": "text/x-python",
   "name": "python",
   "nbconvert_exporter": "python",
   "pygments_lexer": "ipython3",
   "version": "3.11.4"
  }
 },
 "nbformat": 4,
 "nbformat_minor": 5
}
